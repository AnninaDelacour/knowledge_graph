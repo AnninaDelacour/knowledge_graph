{
 "cells": [
  {
   "cell_type": "markdown",
   "id": "d86ae21d-128d-42f2-b8c7-83b5511a35a2",
   "metadata": {},
   "source": [
    "# Knowledge Graph\n",
    "\n",
    "## Einführung\n",
    "Im 4. Assignment wird ein Knowledge Graph implementiert, und die bisherigen RDF-Daten mit neuen Informationen angereichert, die über externe Links und Quellen abgefragt werden. Außerdem wird die von uns erstellte lokale Suchmaschine, die wir in Assignment 2 entwickelt haben, erweitert - hierzu wird das von uns entwickelte Ontologie-Modell verwendet, welches in Assignment 3 implementiert wurde.\n",
    "Zum Schluss werden mithilfe von SPARQL semantische Abfragen erstellt, durch die wir Informationen über den Damen-Volleyballkader erhalten können.\n",
    "\n",
    "## Arbeitsaufteilung\n",
    "* Cesar Laura:\n",
    "* Dilly Julian:\n",
    "* Ecker Annina: 1. Integration Ontology with Search Engine\n"
   ]
  },
  {
   "cell_type": "markdown",
   "id": "289a7f04-42a7-4090-acdc-5f4718cbece6",
   "metadata": {},
   "source": [
    "### Installation und Importieren der benötigten Libraries"
   ]
  },
  {
   "cell_type": "code",
   "execution_count": null,
   "id": "57d2f66c-101b-40df-b83d-c1e1fa25d0e6",
   "metadata": {
    "scrolled": true
   },
   "outputs": [],
   "source": [
    "!pip install -r requirements.txt"
   ]
  },
  {
   "cell_type": "code",
   "execution_count": null,
   "id": "2787349c-5626-453e-8399-21e4b3111792",
   "metadata": {},
   "outputs": [],
   "source": [
    "import pandas as pd\n",
    "import text_processing as tp\n",
    "import tfidf_search as ts\n",
    "import ontology_graph as og"
   ]
  },
  {
   "cell_type": "markdown",
   "id": "dec4d0e4-f2d7-4fef-83d8-5be92fc84ab0",
   "metadata": {},
   "source": [
    "### 1. Integration der Ontologie in die lokale Suchmaschine"
   ]
  },
  {
   "cell_type": "code",
   "execution_count": null,
   "id": "4ac06bcb-cb49-4e7a-af0c-3b1f57b48784",
   "metadata": {},
   "outputs": [],
   "source": [
    "spielerinnen_csv = pd.read_csv(\"./Spielerinnendaten.csv\")\n",
    "\n",
    "# text_processing + Ontologie einfügen\n",
    "inverted_index = tp.build_inverted_index(spielerinnen_csv.values)"
   ]
  },
  {
   "cell_type": "markdown",
   "id": "cf039d0e-6299-43c7-b39d-320cb771c46e",
   "metadata": {},
   "source": [
    "#### 1.1 Änderung \n",
    "Bei der Implementierung des bisherigen TFIDF-Scores hat sich gezeigt, dass `cm` als eigener Token interpretiert wurde, und nicht als Teil der Information zur Körpergröße:\n",
    "<details>\n",
    "  <summary>Screenshot: Available Tokens, Erstversion</summary>\n",
    "  \n",
    "  ![title](available_tokens.png)\n",
    "  \n",
    "</details>\n",
    "\n",
    "Daher wurde die Logik für die Funktion `clean_text`angepasst, wo mithilfe von RegEx Einheit und Zahl durch einen `_` kombiniert werden.\n",
    "\n",
    "<details>\n",
    "    <summary>Code: Before & After</summary>\n",
    "    \n",
    "![title](height_token_solution.png)\n",
    "  \n",
    "</details>\n",
    "\n",
    "**Diese Änderung wurde jedoch wieder rückgängig gemacht, da im weiteren Verlauf der Implementierung bessere Suchanfragen mittels SPARQL erstellt werden sollen.**\n",
    "\n",
    "<details>\n",
    "    <summary>Suchanfrage mit geänderter RegEx-Abfrage (wurde wieder rückgängig gemacht!):</summary>\n",
    "    \n",
    "![title](suche_w_regex.png)\n",
    "  \n",
    "</details>\n",
    "\n",
    "---"
   ]
  },
  {
   "cell_type": "code",
   "execution_count": null,
   "id": "46cdd85e-665c-4cd4-a9ed-2e2c6ebf9ab9",
   "metadata": {},
   "outputs": [],
   "source": [
    "tfidf_df = ts.calculate_tfidf(spielerinnen_csv.values, inverted_index)\n",
    "\n",
    "# Check aller Tokens:\n",
    "# Zeige die existierenden Tokens in der TF-IDF Tabelle\n",
    "print(f\"Available tokens in the tfidf_df Dataframe:{tfidf_df.columns}\")"
   ]
  },
  {
   "cell_type": "markdown",
   "id": "aefc49b6-c12f-493e-bb52-c6c9a8ed4ee9",
   "metadata": {},
   "source": [
    "---"
   ]
  },
  {
   "cell_type": "code",
   "execution_count": null,
   "id": "b4d53291-ca16-4d57-8392-09843baa0ac2",
   "metadata": {},
   "outputs": [],
   "source": [
    "# Suchabfrage: Test 1\n",
    "# Check der AND-Bedingung\n",
    "ts.search(tfidf_df, \"Diagonal and 185 and cm\", spielerinnen_csv)\n",
    "\n",
    "volleyball_graph = og.create_volleyball_ontology()"
   ]
  },
  {
   "cell_type": "markdown",
   "id": "f420f86e-14c6-4756-a2b4-535c20f4c94e",
   "metadata": {},
   "source": [
    "---\n",
    "\n",
    "Für die OR-Bedingung wurde ein `outer`-Merge verwendet und implementiert, für AND-Bedingungen ein `inner`-Merge:\n"
   ]
  },
  {
   "cell_type": "code",
   "execution_count": null,
   "id": "d1220f58-8a62-4c53-886a-c8a902fadc9a",
   "metadata": {},
   "outputs": [],
   "source": [
    "# Suchabfrage: Test 2\n",
    "# Check der OR-Bedingung\n",
    "ts.search(tfidf_df, \"Außenangriff or Nina\", spielerinnen_csv)\n",
    "\n",
    "volleyball_graph = og.create_volleyball_ontology()"
   ]
  },
  {
   "cell_type": "markdown",
   "id": "2711a114-0275-4178-88cc-28297af9dd70",
   "metadata": {},
   "source": [
    "---"
   ]
  },
  {
   "cell_type": "code",
   "execution_count": null,
   "id": "bed1c686-16c1-47b1-89d9-69b984595c93",
   "metadata": {},
   "outputs": [],
   "source": [
    "# Suchabfrage: Test 3\n",
    "# Anfrage Spielerin mit zugehöriger Position, kein OR/AND\n",
    "\n",
    "ts.search(tfidf_df, \"Nicole Aufspiel\", spielerinnen_csv)\n",
    "\n",
    "volleyball_graph = og.create_volleyball_ontology()"
   ]
  },
  {
   "cell_type": "markdown",
   "id": "cea74fb5-020a-4d8c-9d00-a00c4048c66e",
   "metadata": {},
   "source": [
    "---"
   ]
  },
  {
   "cell_type": "code",
   "execution_count": null,
   "id": "75340197-938b-4e9f-a793-77b06cfb17e6",
   "metadata": {},
   "outputs": [],
   "source": [
    "# Suchabfrage: Test 4\n",
    "# Anfrage Spielerin ohne zugehörige Position, kein OR/AND\n",
    "\n",
    "ts.search(tfidf_df, \"Nicole Libero\", spielerinnen_csv)\n",
    "\n",
    "volleyball_graph = og.create_volleyball_ontology()"
   ]
  },
  {
   "cell_type": "markdown",
   "id": "5458a34c-d96a-4486-a2d7-89711a837ac6",
   "metadata": {},
   "source": [
    "---"
   ]
  },
  {
   "cell_type": "markdown",
   "id": "1a505deb-2d15-41c4-82d5-a7699c8914c7",
   "metadata": {},
   "source": [
    "\n",
    "Der bisherige Code aus `text_processing.py`, `tfidf_search.py` und `ontology_graph.py` wurde abgewandelt und die Onthologie eingefügt. <br>Zusätzlich wurde die Ausgabe so formatiert, dass man den Score direkt mit der jeweiligen Spielerin gemeinsam ausgegeben erhält. Die Onthologie ist zwar ab diesem Punkt bereits vorhanden, allerdings wird nach wie vor mittels Text-Token gesucht.<br>\n",
    "Es ist noch nicht möglich, z.B. den Namen einer Spielerin und eine beliebige Position abzufragen (siehe **Suchabfrage Test 4**). <br>Um die Suchfunktion zu erweitern, ist **SPARQL** notwendig, da so die Onthologie-Daten tatsächlich verarbeitet werden können. Zunächst werden allerdings noch die RDF-Daten über externe Links und Quellen angereichert.\n",
    "\n",
    "---"
   ]
  },
  {
   "cell_type": "markdown",
   "id": "9dca1c50-fa04-4576-b566-e57b906b845e",
   "metadata": {},
   "source": [
    "### 2. WIP"
   ]
  },
  {
   "cell_type": "code",
   "execution_count": null,
   "id": "064eecd8-977f-4a1f-837b-46c8de0a7ea1",
   "metadata": {},
   "outputs": [],
   "source": [
    "display(spielerinnen_csv)"
   ]
  },
  {
   "cell_type": "markdown",
   "id": "611ccb30-9405-4f69-9544-1ed1f84d078c",
   "metadata": {},
   "source": [
    "### 3. WIP"
   ]
  },
  {
   "cell_type": "code",
   "execution_count": null,
   "id": "bf03207e-d018-41d4-a9bd-c48bef0921f9",
   "metadata": {},
   "outputs": [],
   "source": []
  },
  {
   "cell_type": "code",
   "execution_count": null,
   "id": "91f0f76a-7adf-459f-bd22-4b6f07764cc3",
   "metadata": {},
   "outputs": [],
   "source": []
  },
  {
   "cell_type": "markdown",
   "id": "d64e4936-9e65-4c8b-a83a-94e87e117f9f",
   "metadata": {},
   "source": [
    "# Ressourcen & Source-Docs\n",
    "\n",
    "## Inverted Index, Onthology and Search\n",
    "1. [NLP Stanford - A first Take at Building an Inverted Index](https://nlp.stanford.edu/IR-book/html/htmledition/a-first-take-at-building-an-inverted-index-1.html)\n",
    "2. Quasi alle vorherigen Quellen, die angegeben worden sind\n",
    "\n",
    "## WIP\n",
    "1. [Link](https://www.google.com/)\n",
    "2. [Link](https://www.google.com/)\n",
    "3. [Link](https://www.google.com/)\n",
    "4. [Link](https://www.google.com/)\n",
    "5. [Link](https://www.google.com/)\n",
    "\n",
    "## WIP\n",
    "1. [Link](https://www.google.com/)\n",
    "2. [Link](https://www.google.com/)\n",
    "3. [Link](https://www.google.com/)\n",
    "4. [Link](https://www.google.com/)\n",
    "5. [Link](https://www.google.com/)"
   ]
  },
  {
   "cell_type": "markdown",
   "id": "76a5179d-2fb5-4347-abd2-da813a46e408",
   "metadata": {},
   "source": [
    "# Challenges bei der Implementierung\n",
    "\n",
    "\n",
    "#### Cesar Laura,\n",
    "\n",
    "#### Dilly Julian,\n",
    "\n",
    "\n",
    "#### Ecker Annina, Integrierung der Onthologie in die Suche:\n",
    "Grundsätzlich war unsere bestehende Logik schon sehr gut. Ich war mir nur sehr unsicher, inwiefern bereits der erste Teil \"more sophisticaed\" sein muss, weswegen ich mich nochmal genauer in Inverted Indices usw. eingelesen habe, und für die Suche die Abfragen zusätzlich verfeinert habe. Alles aber für Text-Token, da SPARQL semantisch deutlich bessere Abfragen machen kann, was ich gelesen habe.\n"
   ]
  },
  {
   "cell_type": "code",
   "execution_count": null,
   "id": "6ec4b81b-ec9e-4339-8310-fab3041a5809",
   "metadata": {},
   "outputs": [],
   "source": []
  }
 ],
 "metadata": {
  "kernelspec": {
   "display_name": "Python 3 (ipykernel)",
   "language": "python",
   "name": "python3"
  },
  "language_info": {
   "codemirror_mode": {
    "name": "ipython",
    "version": 3
   },
   "file_extension": ".py",
   "mimetype": "text/x-python",
   "name": "python",
   "nbconvert_exporter": "python",
   "pygments_lexer": "ipython3",
   "version": "3.10.14"
  }
 },
 "nbformat": 4,
 "nbformat_minor": 5
}
