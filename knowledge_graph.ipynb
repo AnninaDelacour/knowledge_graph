{
 "cells": [
  {
   "cell_type": "markdown",
   "id": "d86ae21d-128d-42f2-b8c7-83b5511a35a2",
   "metadata": {},
   "source": [
    "# Knowledge Graph\n",
    "\n",
    "## Einführung\n",
    "Im 4. Assignment wird ein Knowledge Graph implementiert, und die bisherigen RDF-Daten mit neuen Informationen angereichert, die über externe Links und Quellen abgefragt werden. Außerdem wird die von uns erstellte lokale Suchmaschine, die wir in Assignment 2 entwickelt haben, erweitert - hierzu wird das von uns entwickelte Ontologie-Modell verwendet, welches in Assignment 3 implementiert wurde.\n",
    "Zum Schluss werden mithilfe von SPARQL semantische Abfragen erstellt, durch die wir Informationen über den Damen-Volleyballkader erhalten können.\n",
    "\n",
    "## Arbeitsaufteilung\n",
    "* Cesar Laura:\n",
    "* Dilly Julian: SPARQL und Triple Storage\n",
    "* Ecker Annina: 1. Integration Onthology with Search Engine\n"
   ]
  },
  {
   "cell_type": "markdown",
   "id": "289a7f04-42a7-4090-acdc-5f4718cbece6",
   "metadata": {},
   "source": [
    "### Installation und Importieren der benötigten Libraries"
   ]
  },
  {
   "cell_type": "code",
   "execution_count": 12,
   "id": "57d2f66c-101b-40df-b83d-c1e1fa25d0e6",
   "metadata": {
    "scrolled": true
   },
   "outputs": [],
   "source": [
    "#!pip install -r requirements.txt"
   ]
  },
  {
   "cell_type": "code",
   "execution_count": 1,
   "id": "2787349c-5626-453e-8399-21e4b3111792",
   "metadata": {},
   "outputs": [
    {
     "name": "stderr",
     "output_type": "stream",
     "text": [
      "[nltk_data] Downloading package punkt to /Users/annina/nltk_data...\n",
      "[nltk_data]   Package punkt is already up-to-date!\n"
     ]
    }
   ],
   "source": [
    "import pandas as pd\n",
    "import text_processing as tp\n",
    "import tfidf_search as ts\n",
    "import ontology_graph as og"
   ]
  },
  {
   "cell_type": "markdown",
   "id": "707243bf-050f-47ab-a36c-3ab57a30fc52",
   "metadata": {},
   "source": [
    "### Laden der Ontologie - Erstellen des RDF Graphs"
   ]
  },
  {
   "cell_type": "code",
   "execution_count": 2,
   "id": "63c6d280-d434-477a-b2d5-215a20df0f0a",
   "metadata": {},
   "outputs": [],
   "source": [
    "volleyball_graph = og.create_volleyball_ontology()"
   ]
  },
  {
   "cell_type": "markdown",
   "id": "dec4d0e4-f2d7-4fef-83d8-5be92fc84ab0",
   "metadata": {},
   "source": [
    "### 1. Integration der Ontologie in die lokale Suchmaschine"
   ]
  },
  {
   "cell_type": "code",
   "execution_count": 3,
   "id": "4ac06bcb-cb49-4e7a-af0c-3b1f57b48784",
   "metadata": {},
   "outputs": [],
   "source": [
    "spielerinnen_csv = pd.read_csv(\"./Spielerinnendaten.csv\")\n",
    "\n",
    "# text_processing + Ontologie einfügen\n",
    "inverted_index = tp.build_inverted_index(spielerinnen_csv.values)"
   ]
  },
  {
   "cell_type": "markdown",
   "id": "cf039d0e-6299-43c7-b39d-320cb771c46e",
   "metadata": {},
   "source": [
    "#### 1.1 Änderung \n",
    "Bei der Implementierung des bisherigen TFIDF-Scores hat sich gezeigt, dass `cm` als eigener Token interpretiert wurde, und nicht als Teil der Information zur Körpergröße:\n",
    "<details>\n",
    "  <summary>Screenshot: Available Tokens, Erstversion</summary>\n",
    "  \n",
    "  ![title](available_tokens.png)\n",
    "  \n",
    "</details>\n",
    "\n",
    "Daher wurde die Logik für die Funktion `clean_text`angepasst, wo mithilfe von RegEx Einheit und Zahl durch einen `_` kombiniert werden.\n",
    "\n",
    "<details>\n",
    "    <summary>Code: Before & After</summary>\n",
    "    \n",
    "![title](height_token_solution.png)\n",
    "  \n",
    "</details>\n",
    "\n",
    "**Diese Änderung wurde jedoch wieder rückgängig gemacht, da im weiteren Verlauf der Implementierung bessere Suchanfragen mittels SPARQL erstellt werden sollen.**\n",
    "\n",
    "<details>\n",
    "    <summary>Suchanfrage mit geänderter RegEx-Abfrage (wurde wieder rückgängig gemacht!):</summary>\n",
    "    \n",
    "![title](suche_w_regex.png)\n",
    "  \n",
    "</details>\n",
    "\n",
    "---"
   ]
  },
  {
   "cell_type": "code",
   "execution_count": 4,
   "id": "46cdd85e-665c-4cd4-a9ed-2e2c6ebf9ab9",
   "metadata": {},
   "outputs": [
    {
     "name": "stdout",
     "output_type": "stream",
     "text": [
      "Available tokens in the tfidf_df Dataframe:Index(['1', '10', '11', '13', '14', '15', '166', '17', '171', '173', '174',\n",
      "       '175', '179', '18', '180', '183', '185', '186', '188', '19', '2', '21',\n",
      "       '22', '27', '28', '3', 'anna', 'aufspiel', 'aut', 'außenangriff',\n",
      "       'carmen', 'chrtianska', 'cm', 'dana', 'diagonal', 'ehrhart', 'eva',\n",
      "       'fitz', 'gaertner', 'hinteregger', 'holzinger', 'huber', 'jana',\n",
      "       'janka', 'julia', 'kora', 'lelia', 'leonie', 'libero', 'lina', 'marina',\n",
      "       'mittelblock', 'monika', 'nesimovic', 'nicole', 'nina', 'oberhauser',\n",
      "       'raab', 'schaberl', 'schmit', 'stabentheiner', 'tamina', 'trunner',\n",
      "       'ursula', 'verena'],\n",
      "      dtype='object')\n"
     ]
    }
   ],
   "source": [
    "tfidf_df = ts.calculate_tfidf(spielerinnen_csv.values, inverted_index)\n",
    "\n",
    "# Check aller Tokens:\n",
    "# Zeige die existierenden Tokens in der TF-IDF Tabelle\n",
    "print(f\"Available tokens in the tfidf_df Dataframe:{tfidf_df.columns}\")"
   ]
  },
  {
   "cell_type": "markdown",
   "id": "aefc49b6-c12f-493e-bb52-c6c9a8ed4ee9",
   "metadata": {},
   "source": [
    "---"
   ]
  },
  {
   "cell_type": "code",
   "execution_count": 5,
   "id": "b4d53291-ca16-4d57-8392-09843baa0ac2",
   "metadata": {},
   "outputs": [
    {
     "name": "stdout",
     "output_type": "stream",
     "text": [
      "          Name Position Groesse    score\n",
      " Julia TRUNNER Diagonal  185 cm -0.00922\n",
      "Ursula EHRHART Diagonal  185 cm -0.00922\n"
     ]
    }
   ],
   "source": [
    "# Suchabfrage: Test 1\n",
    "# Check der AND-Bedingung\n",
    "ts.search(tfidf_df, \"Diagonal and 185 and cm\", spielerinnen_csv)\n",
    "\n",
    "volleyball_graph = og.create_volleyball_ontology()"
   ]
  },
  {
   "cell_type": "markdown",
   "id": "f420f86e-14c6-4756-a2b4-535c20f4c94e",
   "metadata": {},
   "source": [
    "---\n",
    "\n",
    "Für die OR-Bedingung wurde ein `outer`-Merge verwendet und implementiert, für AND-Bedingungen ein `inner`-Merge:\n"
   ]
  },
  {
   "cell_type": "code",
   "execution_count": 6,
   "id": "d1220f58-8a62-4c53-886a-c8a902fadc9a",
   "metadata": {},
   "outputs": [
    {
     "name": "stdout",
     "output_type": "stream",
     "text": [
      "                Name     Position Groesse    score\n",
      "      Nina NESIMOVIC  Mittelblock  188 cm 0.287843\n",
      "   Monika CHRTIANSKA Außenangriff  183 cm 0.188822\n",
      "    Lina HINTEREGGER Außenangriff  180 cm 0.188822\n",
      "Kora Marina SCHABERL Außenangriff  183 cm 0.165219\n"
     ]
    }
   ],
   "source": [
    "# Suchabfrage: Test 2\n",
    "# Check der OR-Bedingung\n",
    "ts.search(tfidf_df, \"Außenangriff or Nina\", spielerinnen_csv)\n",
    "\n",
    "volleyball_graph = og.create_volleyball_ontology()"
   ]
  },
  {
   "cell_type": "markdown",
   "id": "2711a114-0275-4178-88cc-28297af9dd70",
   "metadata": {},
   "source": [
    "---"
   ]
  },
  {
   "cell_type": "code",
   "execution_count": 7,
   "id": "bed1c686-16c1-47b1-89d9-69b984595c93",
   "metadata": {},
   "outputs": [
    {
     "name": "stdout",
     "output_type": "stream",
     "text": [
      "                   Name Position Groesse   score\n",
      "Nicole Leonie HOLZINGER Aufspiel  175 cm 0.20118\n"
     ]
    }
   ],
   "source": [
    "# Suchabfrage: Test 3\n",
    "# Anfrage Spielerin mit zugehöriger Position, kein OR/AND\n",
    "\n",
    "ts.search(tfidf_df, \"Nicole Aufspiel\", spielerinnen_csv)\n",
    "\n",
    "volleyball_graph = og.create_volleyball_ontology()"
   ]
  },
  {
   "cell_type": "markdown",
   "id": "cea74fb5-020a-4d8c-9d00-a00c4048c66e",
   "metadata": {},
   "source": [
    "---"
   ]
  },
  {
   "cell_type": "code",
   "execution_count": 8,
   "id": "75340197-938b-4e9f-a793-77b06cfb17e6",
   "metadata": {},
   "outputs": [
    {
     "name": "stdout",
     "output_type": "stream",
     "text": [
      "Search result: No results found.\n"
     ]
    }
   ],
   "source": [
    "# Suchabfrage: Test 4\n",
    "# Anfrage Spielerin ohne zugehörige Position, kein OR/AND\n",
    "\n",
    "ts.search(tfidf_df, \"Nicole Libero\", spielerinnen_csv)\n",
    "\n",
    "volleyball_graph = og.create_volleyball_ontology()"
   ]
  },
  {
   "cell_type": "markdown",
   "id": "5458a34c-d96a-4486-a2d7-89711a837ac6",
   "metadata": {},
   "source": [
    "---"
   ]
  },
  {
   "cell_type": "markdown",
   "id": "1a505deb-2d15-41c4-82d5-a7699c8914c7",
   "metadata": {},
   "source": [
    "\n",
    "Der bisherige Code aus `text_processing.py`, `tfidf_search.py` und `ontology_graph.py` wurde abgewandelt und die Ontologie eingefügt. <br>Zusätzlich wurde die Ausgabe so formatiert, dass man den Score direkt mit der jeweiligen Spielerin gemeinsam ausgegeben erhält. Die Ontologie ist zwar ab diesem Punkt bereits vorhanden, allerdings wird nach wie vor mittels Text-Token gesucht.<br>\n",
    "Es ist noch nicht möglich, z.B. den Namen einer Spielerin und eine beliebige Position  opll,p]olom, p;[kklm, pl,p(0-op[l;-[p0uhtgy utsiehe **Suchabfrage Test 4**). <br>Um die Suchfunktion zu erweitern, ist **SPARQL** notwendig, da so die Ontologie-Daten tatsächlich verarbeitet werden können. Zunächst werden allerdings noch die RDF-Daten über externe Links und Quellen angereichert.\n",
    "\n",
    "---"
   ]
  },
  {
   "cell_type": "markdown",
   "id": "9dca1c50-fa04-4576-b566-e57b906b845e",
   "metadata": {},
   "source": [
    "### 2. WIP"
   ]
  },
  {
   "cell_type": "code",
   "execution_count": null,
   "id": "064eecd8-977f-4a1f-837b-46c8de0a7ea1",
   "metadata": {},
   "outputs": [],
   "source": []
  },
  {
   "cell_type": "markdown",
   "id": "611ccb30-9405-4f69-9544-1ed1f84d078c",
   "metadata": {},
   "source": [
    "### 3. SPARQL Queries"
   ]
  },
  {
   "cell_type": "markdown",
   "id": "48b79f33",
   "metadata": {},
   "source": [
    "Um die SPARQL Queries im Triple Storage anzuzeigen, müssen die Daten in ein Turtle Format gespeichert werden."
   ]
  },
  {
   "cell_type": "code",
   "execution_count": 19,
   "id": "cb940226",
   "metadata": {},
   "outputs": [],
   "source": [
    "from owlready2 import *\n",
    "from rdflib import Graph, Literal, RDF, RDFS, Namespace, URIRef\n",
    "from rdflib.namespace import FOAF, XSD\n",
    "import pandas as pd"
   ]
  },
  {
   "cell_type": "code",
   "execution_count": 20,
   "id": "bf03207e-d018-41d4-a9bd-c48bef0921f9",
   "metadata": {},
   "outputs": [
    {
     "data": {
      "text/plain": [
       "<Graph identifier=N60b9fbfc433d4121a586162fedd9ce9f (<class 'rdflib.graph.Graph'>)>"
      ]
     },
     "execution_count": 20,
     "metadata": {},
     "output_type": "execute_result"
    }
   ],
   "source": [
    "graph = Graph()\n",
    "# Erstellung des Volleyball Namespaces = vbn\n",
    "# Beispiel: Klasse 'vbn.VolleyballPlayer' wird in RDF zu 'http://example.org/volleyball#VolleyballPlayer'\n",
    "vbn = Namespace(\"http://example.org/volleyball#\")\n",
    "graph.bind(\"vbn\", vbn)\n",
    "\n",
    "# Classes\n",
    "graph.add((vbn.Person, RDF.type, RDFS.Class))\n",
    "graph.add((vbn.Athlete, RDF.type, RDFS.Class))\n",
    "graph.add((vbn.VolleyballPlayer, RDF.type, RDFS.Class))\n",
    "graph.add((vbn.Team, RDF.type, RDFS.Class))\n",
    "graph.add((vbn.Position, RDF.type, RDFS.Class))\n",
    "graph.add((vbn.Nationality, RDF.type, RDFS.Class))\n",
    "\n",
    "# Class Hierarchies\n",
    "graph.add((vbn.Athlete, RDFS.subClassOf, vbn.Person))\n",
    "graph.add((vbn.VolleyballPlayer, RDFS.subClassOf, vbn.Athlete))\n",
    "\n",
    "graph.add((vbn.hasName, RDF.type, RDF.Property))\n",
    "graph.add((vbn.hasName, RDFS.domain, vbn.Person))\n",
    "graph.add((vbn.hasName, RDFS.range, RDFS.Literal))\n",
    "\n",
    "graph.add((vbn.hasPosition, RDF.type, RDF.Property))\n",
    "graph.add((vbn.hasPosition, RDFS.domain, vbn.VolleyballPlayer))\n",
    "graph.add((vbn.hasPosition, RDFS.range, vbn.Position))\n",
    "\n",
    "graph.add((vbn.hasNationality, RDF.type, RDF.Property))\n",
    "graph.add((vbn.hasNationality, RDFS.domain, vbn.Person))\n",
    "graph.add((vbn.hasNationality, RDFS.range, vbn.Nationality))\n",
    "\n",
    "graph.add((vbn.hasHeight, RDF.type, RDF.Property))\n",
    "graph.add((vbn.hasHeight, RDFS.domain, vbn.VolleyballPlayer))\n",
    "graph.add((vbn.hasHeight, RDFS.range, RDFS.Literal))\n",
    "\n",
    "graph.add((vbn.hasJerseyNumber, RDF.type, RDF.Property))\n",
    "graph.add((vbn.hasJerseyNumber, RDFS.domain, vbn.VolleyballPlayer))\n",
    "graph.add((vbn.hasJerseyNumber, RDFS.range, RDFS.Literal))\n",
    "\n",
    "graph.add((vbn.playsFor, RDF.type, RDF.Property))\n",
    "graph.add((vbn.playsFor, RDFS.domain, vbn.VolleyballPlayer))\n",
    "graph.add((vbn.playsFor, RDFS.range, vbn.Team))"
   ]
  },
  {
   "cell_type": "code",
   "execution_count": 21,
   "id": "91f0f76a-7adf-459f-bd22-4b6f07764cc3",
   "metadata": {},
   "outputs": [
    {
     "data": {
      "text/plain": [
       "<Graph identifier=Nda54a377ac1b4f80bbd822a60696d1cd (<class 'rdflib.graph.Graph'>)>"
      ]
     },
     "execution_count": 21,
     "metadata": {},
     "output_type": "execute_result"
    }
   ],
   "source": [
    "df = pd.read_csv('Spielerinnendaten.csv')\n",
    "graph = Graph()\n",
    "\n",
    "graph.bind(\"vbn\", vbn)\n",
    "RDFS_NS = Namespace(\"http://www.w3.org/2000/01/rdf-schema#\")\n",
    "graph.bind(\"rdfs\", RDFS_NS)\n",
    "\n",
    "team_uri = URIRef(f\"http://example.org/volleyball#Nationalteam\")\n",
    "stadion_uri = URIRef(f\"http://example.org/volleyball#ExampleStadion\")\n",
    "\n",
    "graph.add((team_uri, RDF.type, vbn.Team))\n",
    "graph.add((stadion_uri, RDF.type, vbn.Stadion))\n",
    "\n",
    "graph.add((stadion_uri, vbn.hasStadionName, Literal(\"Example Stadion\")))\n",
    "graph.add((stadion_uri, vbn.hasStadionAdress, Literal(\"Example Adress\")))\n",
    "graph.add((team_uri, vbn.hasTeamName, Literal(\"Nationalmannschaft\")))\n",
    "graph.add((team_uri, vbn.hasHomeStadion, stadion_uri))\n",
    "\n",
    "\n",
    "for index, row in df.iterrows():\n",
    "    player_uri = URIRef(f\"http://example.org/volleyball#player_{index+1}\")\n",
    "    \n",
    "    graph.add((player_uri, RDF.type, vbn.VolleyballPlayer))\n",
    "    graph.add((player_uri, vbn.hasName, Literal(row['Name'])))\n",
    "    graph.add((player_uri, vbn.hasHeight, Literal(row['Groesse'])))\n",
    "    graph.add((player_uri, vbn.hasJerseyNumber, Literal(row['Dressnummer'])))\n",
    "    graph.add((player_uri, vbn.playsFor, team_uri))\n",
    "    \n",
    "    nationality_uri = URIRef(f\"http://example.org/volleyball#nationality_{row['Nationalitaet']}\")\n",
    "    graph.add((nationality_uri, RDF.type, vbn.Nationality))\n",
    "    graph.add((player_uri, vbn.hasNationality, nationality_uri))\n",
    "    \n",
    "    position_uri = URIRef(f\"http://example.org/volleyball#position_{row['Position']}\")\n",
    "    graph.add((position_uri, RDF.type, vbn.Position))\n",
    "    graph.add((player_uri, vbn.hasPosition, position_uri))\n",
    "    \n",
    "graph.serialize(destination=\"volleyball_players2.ttl\", format=\"turtle\")"
   ]
  },
  {
   "cell_type": "markdown",
   "id": "d81e3cad",
   "metadata": {},
   "source": [
    "1. Which players have a Number higher than 10?\n",
    "2. How many players are there from each Nationality\n",
    "3. How many players are there at each position on the team\n",
    "4. How many players are bigger than 180 cm?\n",
    "5. Name all the players on the team with their position and their numbers\n",
    "6. How many players are playing on the position of \"Mittelblock\"?\n",
    "7. Which player(s) are named Anna?\n",
    "8. What is the sum of the Numbers of the team?\n",
    "9. What is the average height of the players?\n",
    "10. Platzhalter\n"
   ]
  },
  {
   "cell_type": "markdown",
   "id": "aa5e1278",
   "metadata": {},
   "source": [
    "Abfrage für Frage 1"
   ]
  },
  {
   "cell_type": "markdown",
   "id": "56e75af4",
   "metadata": {},
   "source": [
    "PREFIX vbn: <http://example.org/volleyball#>\n",
    "\n",
    "SELECT ?player ?name ?jerseyNumber WHERE {\n",
    "  ?player a vbn:VolleyballPlayer ;\n",
    "          vbn:hasName ?name ;\n",
    "          vbn:hasJerseyNumber ?jerseyNumber .\n",
    "  FILTER(?jerseyNumber > 10)\n",
    "}\n",
    "ORDER BY ?jerseyNumber"
   ]
  },
  {
   "cell_type": "markdown",
   "id": "f965be12",
   "metadata": {},
   "source": [
    "Abfrage für Frage 2"
   ]
  },
  {
   "cell_type": "markdown",
   "id": "c78c5227",
   "metadata": {},
   "source": [
    "PREFIX vbn: <http://example.org/volleyball#>\n",
    "\n",
    "SELECT ?nationality (COUNT(?player) AS ?playerCount) WHERE {\n",
    "  ?player a vbn:VolleyballPlayer ;\n",
    "          vbn:hasNationality ?nationality .\n",
    "}\n",
    "GROUP BY ?nationality"
   ]
  },
  {
   "cell_type": "markdown",
   "id": "eacf1d08",
   "metadata": {},
   "source": [
    "Gibt 15 Spielererinnen mit der Nationalität AUT zurück, wie erwartet beim Österreichischen Nationalteam"
   ]
  },
  {
   "cell_type": "markdown",
   "id": "f122f811",
   "metadata": {},
   "source": [
    "Abfrage für Frage 3: Spielerinnen pro Position"
   ]
  },
  {
   "cell_type": "markdown",
   "id": "af7a2dc0",
   "metadata": {},
   "source": [
    "\n",
    "PREFIX vbn: <http://example.org/volleyball#>\n",
    "\n",
    "SELECT ?position (COUNT(?player) AS ?playerCount) WHERE {\n",
    "  ?player a vbn:VolleyballPlayer ;\n",
    "          vbn:hasPosition ?position .\n",
    "}\n",
    "GROUP BY ?position"
   ]
  },
  {
   "cell_type": "markdown",
   "id": "6bb623cb",
   "metadata": {},
   "source": [
    "Abfrage für Frage 4: Spielerinnen größer als 180 cm"
   ]
  },
  {
   "cell_type": "markdown",
   "id": "b24d4199",
   "metadata": {},
   "source": [
    "PREFIX vbn: <http://example.org/volleyball#>\n",
    "Prefix xsd: <http://www.w3.org/2001/XMLSchema#> \n",
    "\n",
    "SELECT ?player ?name ?height WHERE {\n",
    "  ?player a vbn:VolleyballPlayer ;\n",
    "          vbn:hasName ?name ;\n",
    "          vbn:hasHeight ?height .\n",
    "  FILTER(xsd:decimal(STRBEFORE(?height, \" cm\")) > 180)\n",
    "}\n",
    "ORDER BY DESC(?height)"
   ]
  },
  {
   "cell_type": "markdown",
   "id": "a62cf421",
   "metadata": {},
   "source": [
    "Abfrage für Frage 5: Spielerinnen mit Position und Nummer"
   ]
  },
  {
   "cell_type": "markdown",
   "id": "67b63329",
   "metadata": {},
   "source": [
    "PREFIX vbn: <http://example.org/volleyball#>\n",
    "\n",
    "SELECT ?player ?name ?position ?jerseyNumber WHERE {\n",
    "  ?player a vbn:VolleyballPlayer ;\n",
    "          vbn:hasName ?name ;\n",
    "          vbn:hasPosition ?position ;\n",
    "          vbn:hasJerseyNumber ?jerseyNumber .\n",
    "}"
   ]
  },
  {
   "cell_type": "markdown",
   "id": "44c73b80",
   "metadata": {},
   "source": [
    "Abfrage für Frage 6: Spielerinnen als Mittelblock"
   ]
  },
  {
   "cell_type": "markdown",
   "id": "cf9cb210",
   "metadata": {},
   "source": [
    "PREFIX vbn: <http://example.org/volleyball#>\n",
    "\n",
    "SELECT ?player ?name WHERE {\n",
    "  ?player a vbn:VolleyballPlayer ;\n",
    "          vbn:hasName ?name ;\n",
    "          vbn:hasPosition vbn:position_Mittelblock .\n",
    "}"
   ]
  },
  {
   "cell_type": "markdown",
   "id": "9fa80e75",
   "metadata": {},
   "source": [
    "Abfrage für Frage 7: Größte Spielerinnen"
   ]
  },
  {
   "cell_type": "markdown",
   "id": "eec21c2b",
   "metadata": {},
   "source": [
    "PREFIX vbn: <http://example.org/volleyball#>\n",
    "Prefix xsd: <http://www.w3.org/2001/XMLSchema#> \n",
    "\n",
    "SELECT (MAX(xsd:decimal(STRBEFORE(?height, \" cm\"))) AS ?maxHeight) WHERE {\n",
    "  ?player a vbn:VolleyballPlayer ;\n",
    "          vbn:hasHeight ?height .\n",
    "}"
   ]
  },
  {
   "cell_type": "markdown",
   "id": "cf1cc9e8",
   "metadata": {},
   "source": [
    "Abfrage für Frage 8: Summe Trikotnummern"
   ]
  },
  {
   "cell_type": "markdown",
   "id": "9a1bd9b0",
   "metadata": {},
   "source": [
    "PREFIX vbn: <http://example.org/volleyball#>\n",
    "\n",
    "SELECT (SUM(?jerseyNumber) AS ?averageJerseyNumber) WHERE {\n",
    "  ?player a vbn:VolleyballPlayer ;\n",
    "          vbn:hasJerseyNumber ?jerseyNumber .\n",
    "}"
   ]
  },
  {
   "cell_type": "markdown",
   "id": "058c06b0",
   "metadata": {},
   "source": [
    "Abfrage für Frage 9: Durchschnittsgröße"
   ]
  },
  {
   "cell_type": "markdown",
   "id": "fec8e22d",
   "metadata": {},
   "source": [
    "PREFIX vbn: <http://example.org/volleyball#>\n",
    "Prefix xsd: <http://www.w3.org/2001/XMLSchema#> \n",
    "\n",
    "SELECT (AVG(xsd:decimal(STRBEFORE(?height, \" cm\"))) AS ?averageHeight) WHERE {\n",
    "  ?player a vbn:VolleyballPlayer ;\n",
    "          vbn:hasHeight ?height .\n",
    "}"
   ]
  },
  {
   "cell_type": "markdown",
   "id": "582c2cb9",
   "metadata": {},
   "source": [
    "Abfrage für Frage 10: Nach einem Namen suchen"
   ]
  },
  {
   "cell_type": "markdown",
   "id": "8369b9d6",
   "metadata": {},
   "source": [
    "PREFIX vbn: <http://example.org/volleyball#>\n",
    "\n",
    "SELECT ?name\n",
    "WHERE {\n",
    "  ?player a vbn:VolleyballPlayer ;\n",
    "          vbn:hasName ?name .\n",
    "  FILTER(CONTAINS(?name, \"Nicole\"))\n",
    "}"
   ]
  },
  {
   "cell_type": "markdown",
   "id": "d64e4936-9e65-4c8b-a83a-94e87e117f9f",
   "metadata": {},
   "source": [
    "# Ressourcen & Source-Docs\n",
    "\n",
    "## Inverted Index, Ontology and Search\n",
    "1. [NLP Stanford - A first Take at Building an Inverted Index](https://nlp.stanford.edu/IR-book/html/htmledition/a-first-take-at-building-an-inverted-index-1.html)\n",
    "2. Quasi alle vorherigen Quellen, die angegeben worden sind\n",
    "\n",
    "## WIP\n",
    "1. [Link](https://www.google.com/)\n",
    "2. [Link](https://www.google.com/)\n",
    "3. [Link](https://www.google.com/)\n",
    "4. [Link](https://www.google.com/)\n",
    "5. [Link](https://www.google.com/)\n",
    "\n",
    "## Questions, Triple Storage\n",
    "1. [Tutorial für STREBEFORE - w3 ](https://www.w3.org/TR/sparql11-query/#func-strbefore)\n",
    "2. Quellen aus Aufgabe 3"
   ]
  },
  {
   "cell_type": "markdown",
   "id": "76a5179d-2fb5-4347-abd2-da813a46e408",
   "metadata": {},
   "source": [
    "# Challenges bei der Implementierung\n",
    "\n",
    "\n",
    "#### Cesar Laura,\n",
    "\n",
    "####  Dilly Julian, Fragen und Triple Storage:\n",
    "Ein Teil der Schwierigkeiten war es genügend Fragen für die zehn Abfragen zu finden, da unsere Datenbasis sehr klein ist und somit nur wenige Werte enthält. Eine weitere Schwierigkeit war, dass die Werte für die Größe mit den cm gemeinsam gespeichert werden und somit die Werte als String gesehen werden. Die Lösung hierfür war es mit Hilfe der Funktion STREBEFORE diese in Integer umzuwandeln und so die richtigen Ergebnisse zu erhalten.\n",
    "\n",
    "\n",
    "#### Ecker Annina, Integrierung der Onthologie in die Suche:\n",
    "Grundsätzlich war unsere bestehende Logik schon sehr gut. Ich war mir nur sehr unsicher, inwiefern bereits der erste Teil \"more sophisticaed\" sein muss, weswegen ich mich nochmal genauer in Inverted Indices usw. eingelesen habe, und für die Suche die Abfragen zusätzlich verfeinert habe. Alles aber für Text-Token, da SPARQL semantisch deutlich bessere Abfragen machen kann, was ich gelesen habe.\n"
   ]
  },
  {
   "cell_type": "code",
   "execution_count": null,
   "id": "6ec4b81b-ec9e-4339-8310-fab3041a5809",
   "metadata": {},
   "outputs": [],
   "source": []
  }
 ],
 "metadata": {
  "kernelspec": {
   "display_name": "Python 3 (ipykernel)",
   "language": "python",
   "name": "python3"
  },
  "language_info": {
   "codemirror_mode": {
    "name": "ipython",
    "version": 3
   },
   "file_extension": ".py",
   "mimetype": "text/x-python",
   "name": "python",
   "nbconvert_exporter": "python",
   "pygments_lexer": "ipython3",
   "version": "3.12.0"
  }
 },
 "nbformat": 4,
 "nbformat_minor": 5
}
